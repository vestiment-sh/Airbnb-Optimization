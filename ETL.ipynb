{
 "cells": [
  {
   "cell_type": "code",
   "execution_count": null,
   "metadata": {},
   "outputs": [],
   "source": [
    "# import module\n",
    "import pandas as pd\n",
    "import numpy as np\n",
    "import matplotlib.pyplot as plt\n",
    "import seaborn as sns\n",
    "pd.set_option('display.max_columns', 50)\n",
    "%matplotlib inline"
   ]
  },
  {
   "cell_type": "markdown",
   "metadata": {},
   "source": [
    "# Extract Data"
   ]
  },
  {
   "cell_type": "code",
   "execution_count": null,
   "metadata": {},
   "outputs": [],
   "source": [
    "### Extract Data Part ###\n",
    "# Import datasets\n",
    "# Listing \n",
    "df = pd.read_csv('listings_detail.csv')\n",
    "# NYC ZipCode\n",
    "df_zipcode = pd.read_csv('nyc_zip.csv')"
   ]
  },
  {
   "cell_type": "markdown",
   "metadata": {},
   "source": [
    "# Transform Data"
   ]
  },
  {
   "cell_type": "code",
   "execution_count": null,
   "metadata": {},
   "outputs": [],
   "source": [
    "# Select Columns\n",
    "df = df[['id','neighborhood_overview','host_response_rate',\n",
    "'host_is_superhost','host_total_listings_count','host_has_profile_pic',\n",
    "'host_identity_verified','zipcode','property_type',\n",
    "'room_type','accommodates','bathrooms',\n",
    "'bedrooms','beds','price',\n",
    "'minimum_nights','maximum_nights','number_of_reviews',\n",
    "'review_scores_rating','review_scores_accuracy','review_scores_cleanliness',\n",
    "'review_scores_checkin','review_scores_communication','review_scores_location',\n",
    "'review_scores_value']]\n",
    "\n",
    "# Show first 5rows\n",
    "# df.head()\n",
    "\n",
    "# Check data types\n",
    "# df.dtypes\n",
    "\n",
    "# Count Null data\n",
    "#df.isnull().sum()\n",
    "\n",
    "### Cleaning Data ###\n",
    "# Drop NULL\n",
    "df_drop_na = df.dropna()\n",
    "\n",
    "# Remove Strings\n",
    "df_drop_na['host_response_rate'] = df_drop_na['host_response_rate'].str.strip('%')\n",
    "df_drop_na['price'] = df_drop_na['price'].str.strip('$')\n",
    "df_drop_na['price'] = df_drop_na['price'].str.replace(',','')\n",
    "\n",
    "# Convert boolean to int\n",
    "arr_mapping = {'t':1, 'f':0}\n",
    "df_drop_na['host_is_superhost'] = df_drop_na['host_is_superhost'].map(arr_mapping)\n",
    "df_drop_na['host_has_profile_pic'] = df_drop_na['host_has_profile_pic'].map(arr_mapping)\n",
    "df_drop_na['host_identity_verified'] = df_drop_na['host_identity_verified'].map(arr_mapping)\n",
    "\n",
    "# Zipcode - Align 5 numbers\n",
    "list_zipcode = df_drop_na['zipcode']\n",
    "new_zipcode = []\n",
    "for i in list_zipcode:\n",
    "    if type(i) is str:\n",
    "        if len(i)<5:\n",
    "            new_zipcode.append(None)\n",
    "        else:\n",
    "            j = i[:5]\n",
    "            j = int(j)\n",
    "            new_zipcode.append(j)\n",
    "    elif type(i) is float:\n",
    "        j = int(i)\n",
    "        new_zipcode.append(j)\n",
    "    else:\n",
    "        new_zipcode.append(i)\n",
    "\n",
    "# Switch Zipcode data\n",
    "df_drop_na['zipcode'] = new_zipcode\n",
    "\n",
    "#drop rows have NULL data \n",
    "df_drop_na = df_drop_na.dropna()\n",
    "\n",
    "# Change the datatypes\n",
    "df_drop_na['zipcode'] = df_drop_na['zipcode'].astype(np.int64)\n",
    "df_drop_na['price'] = df_drop_na['price'].astype(np.float32)\n",
    "\n",
    "# New Column\n",
    "df_drop_na['Price_daily'] = df_drop_na['price']/df_drop_na['minimum_nights']\n",
    "\n",
    "# Merge two datasets\n",
    "df_merge = pd.merge(df_drop_na, df_zipcode,  left_on='zipcode', right_on='zip' )\n",
    "\n",
    "# Export modified datasets\n",
    "# df_merge.to_csv('df_merge.csv')"
   ]
  },
  {
   "cell_type": "markdown",
   "metadata": {},
   "source": [
    "# Load Data"
   ]
  },
  {
   "cell_type": "code",
   "execution_count": null,
   "metadata": {},
   "outputs": [],
   "source": [
    "import pymysql \n",
    "\n",
    "connection = pymysql.connect(host=\"127.0.0.1\",user=\"root\",password=\"cis4400\", db=\"airbnb\", cursorclass=pymysql.cursors.DictCursor)\n",
    "print(connection)\n",
    "\n",
    "sql =\"CREATE TABLE if not exists airbnb_details(id INT, host_response_rate INT, host_is_superhost BOOLEAN, host_total_listings_count INT, host_has_profile_pic BOOLEAN, host_identity_verified BOOLEAN, zipcode INT, property_type VARCHAR(255), room_type VARCHAR(255), accomodates INT, bathroom INT, bedrooms INT, bed INT, price INT, minimum_nights INT, maximum_nights INT, number_of_reviews INT, reviews_scores_rating INT,review_scores_accuracy INT,review_scores_cleanliness INT, review_scores_checkin INT, review_scores_communication INT,review_scores_location INT, review_scores_value INT);\"\n",
    "sql2=\"CREATE TABLE if not exists nyc_zipcodes(zipcode INT, borough VARCHAR(255), neighborhood VARCHAR(255), population INT, density INT); \"\n",
    "sql3=\"Load data local infile 'modified_airbnb_data.csv' INTO TABLE airbnb.airbnb_details fields terminated by \",\" IGNORE 1 lines;\"\n",
    "sql4=\"Load data local infile 'og_nyc_zipcodes.csv' INTO TABLE airbnb.nyc_zipcodes fields terminated by \",\" IGNORE 1 lines; \"\n",
    "sql5=\"show tables;\"\n",
    "\n",
    "\n",
    "tables = [sql, sql2]\n",
    "\n",
    "def create_tables(tables):\n",
    "for i in tables:\n",
    "    cursor = connection.cursor()\n",
    "    cursor.execute(i)\n",
    "    connection.commit()\n",
    "\n",
    "connection.close()\n",
    "\n",
    "data = [sql3, sql4]\n",
    "def load_data(data):\n",
    "    for x in data:\n",
    "        cursor = connection.cursor()\n",
    "        cursor.execute(x)\n",
    "        connection.commit()\n",
    "\n",
    "\n",
    "create_tables(tables)\n",
    "load_data(data)"
   ]
  }
 ],
 "metadata": {
  "kernelspec": {
   "display_name": "Python 3",
   "language": "python",
   "name": "python3"
  },
  "language_info": {
   "codemirror_mode": {
    "name": "ipython",
    "version": 3
   },
   "file_extension": ".py",
   "mimetype": "text/x-python",
   "name": "python",
   "nbconvert_exporter": "python",
   "pygments_lexer": "ipython3",
   "version": "3.7.3"
  }
 },
 "nbformat": 4,
 "nbformat_minor": 2
}

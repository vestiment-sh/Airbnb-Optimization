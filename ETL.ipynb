{
  "nbformat": 4,
  "nbformat_minor": 0,
  "metadata": {
    "kernelspec": {
      "display_name": "Python 3",
      "language": "python",
      "name": "python3"
    },
    "language_info": {
      "codemirror_mode": {
        "name": "ipython",
        "version": 3
      },
      "file_extension": ".py",
      "mimetype": "text/x-python",
      "name": "python",
      "nbconvert_exporter": "python",
      "pygments_lexer": "ipython3",
      "version": "3.7.3"
    },
    "colab": {
      "name": "ETL.ipynb",
      "provenance": []
    }
  },
  "cells": [
    {
      "cell_type": "code",
      "metadata": {
        "id": "_HoggYY9_zP4"
      },
      "source": [
        "# import module\n",
        "import pandas as pd\n",
        "import numpy as np\n",
        "import matplotlib.pyplot as plt\n",
        "import seaborn as sns\n",
        "pd.set_option('display.max_columns', 50)\n",
        "%matplotlib inline"
      ],
      "execution_count": null,
      "outputs": []
    },
    {
      "cell_type": "markdown",
      "metadata": {
        "id": "po5SjYV9_zQB"
      },
      "source": [
        "# Extract Data"
      ]
    },
    {
      "cell_type": "code",
      "metadata": {
        "id": "MHa6HDff_zQC"
      },
      "source": [
        "### Extract Data Part ###\n",
        "# Import datasets\n",
        "# Listing \n",
        "df = pd.read_csv('listings_detail.csv')\n",
        "# NYC ZipCode\n",
        "df_zipcode = pd.read_csv('nyc_zip.csv')"
      ],
      "execution_count": null,
      "outputs": []
    },
    {
      "cell_type": "markdown",
      "metadata": {
        "id": "s0of_Fvv_zQC"
      },
      "source": [
        "# Transform Data"
      ]
    },
    {
      "cell_type": "code",
      "metadata": {
        "id": "utxStRZp_zQC"
      },
      "source": [
        "# Select Columns\n",
        "df = df[['id','neighborhood_overview','host_response_rate',\n",
        "'host_is_superhost','host_total_listings_count','host_has_profile_pic',\n",
        "'host_identity_verified','zipcode','property_type',\n",
        "'room_type','accommodates','bathrooms',\n",
        "'bedrooms','beds','price',\n",
        "'minimum_nights','maximum_nights','number_of_reviews',\n",
        "'review_scores_rating','review_scores_accuracy','review_scores_cleanliness',\n",
        "'review_scores_checkin','review_scores_communication','review_scores_location',\n",
        "'review_scores_value']]\n",
        "\n",
        "# Show first 5rows\n",
        "# df.head()\n",
        "\n",
        "# Check data types\n",
        "# df.dtypes\n",
        "\n",
        "# Count Null data\n",
        "#df.isnull().sum()\n",
        "\n",
        "### Cleaning Data ###\n",
        "# Drop NULL\n",
        "df_drop_na = df.dropna()\n",
        "\n",
        "# Remove Strings\n",
        "df_drop_na['host_response_rate'] = df_drop_na['host_response_rate'].str.strip('%')\n",
        "df_drop_na['price'] = df_drop_na['price'].str.strip('$')\n",
        "df_drop_na['price'] = df_drop_na['price'].str.replace(',','')\n",
        "\n",
        "# Convert boolean to int\n",
        "arr_mapping = {'t':1, 'f':0}\n",
        "df_drop_na['host_is_superhost'] = df_drop_na['host_is_superhost'].map(arr_mapping)\n",
        "df_drop_na['host_has_profile_pic'] = df_drop_na['host_has_profile_pic'].map(arr_mapping)\n",
        "df_drop_na['host_identity_verified'] = df_drop_na['host_identity_verified'].map(arr_mapping)\n",
        "\n",
        "# Zipcode - Align 5 numbers\n",
        "list_zipcode = df_drop_na['zipcode']\n",
        "new_zipcode = []\n",
        "for i in list_zipcode:\n",
        "    if type(i) is str:\n",
        "        if len(i)<5:\n",
        "            new_zipcode.append(None)\n",
        "        else:\n",
        "            j = i[:5]\n",
        "            j = int(j)\n",
        "            new_zipcode.append(j)\n",
        "    elif type(i) is float:\n",
        "        j = int(i)\n",
        "        new_zipcode.append(j)\n",
        "    else:\n",
        "        new_zipcode.append(i)\n",
        "\n",
        "# Switch Zipcode data\n",
        "df_drop_na['zipcode'] = new_zipcode\n",
        "\n",
        "#drop rows have NULL data \n",
        "df_drop_na = df_drop_na.dropna()\n",
        "\n",
        "# Change the datatypes\n",
        "df_drop_na['zipcode'] = df_drop_na['zipcode'].astype(np.int64)\n",
        "df_drop_na['price'] = df_drop_na['price'].astype(np.float32)\n",
        "\n",
        "# New Column\n",
        "df_drop_na['Price_daily'] = df_drop_na['price']/df_drop_na['minimum_nights']\n",
        "\n",
        "# Merge two datasets\n",
        "df_merge = pd.merge(df_drop_na, df_zipcode,  left_on='zipcode', right_on='zip' )\n",
        "\n",
        "# Export modified datasets\n",
        "# df_merge.to_csv('df_merge.csv')"
      ],
      "execution_count": null,
      "outputs": []
    }
  ]
}